{
 "cells": [
  {
   "cell_type": "markdown",
   "metadata": {},
   "source": [
    "# Program 3:Simulate Multiple Linear Regression"
   ]
  },
  {
   "cell_type": "code",
   "execution_count": 1,
   "metadata": {},
   "outputs": [],
   "source": [
    "import numpy as np\n",
    "import pandas as pd\n",
    "from sklearn.linear_model import LinearRegression\n",
    "import matplotlib.pyplot as plt\n",
    "import seaborn as sns"
   ]
  },
  {
   "cell_type": "code",
   "execution_count": 2,
   "metadata": {},
   "outputs": [],
   "source": [
    "df=pd.read_csv(r'C:\\Users\\HP\\Downloads\\petrol_consumption.csv')"
   ]
  },
  {
   "cell_type": "code",
   "execution_count": 3,
   "metadata": {},
   "outputs": [
    {
     "data": {
      "text/html": [
       "<div>\n",
       "<style scoped>\n",
       "    .dataframe tbody tr th:only-of-type {\n",
       "        vertical-align: middle;\n",
       "    }\n",
       "\n",
       "    .dataframe tbody tr th {\n",
       "        vertical-align: top;\n",
       "    }\n",
       "\n",
       "    .dataframe thead th {\n",
       "        text-align: right;\n",
       "    }\n",
       "</style>\n",
       "<table border=\"1\" class=\"dataframe\">\n",
       "  <thead>\n",
       "    <tr style=\"text-align: right;\">\n",
       "      <th></th>\n",
       "      <th>Petrol_tax</th>\n",
       "      <th>Average_income</th>\n",
       "      <th>Paved_Highways</th>\n",
       "      <th>Population_Driver_licence(%)</th>\n",
       "      <th>Petrol_Consumption</th>\n",
       "    </tr>\n",
       "  </thead>\n",
       "  <tbody>\n",
       "    <tr>\n",
       "      <th>0</th>\n",
       "      <td>9.0</td>\n",
       "      <td>3571</td>\n",
       "      <td>1976.0</td>\n",
       "      <td>0.525</td>\n",
       "      <td>541</td>\n",
       "    </tr>\n",
       "    <tr>\n",
       "      <th>1</th>\n",
       "      <td>9.0</td>\n",
       "      <td>4092</td>\n",
       "      <td>1250.0</td>\n",
       "      <td>0.572</td>\n",
       "      <td>524</td>\n",
       "    </tr>\n",
       "    <tr>\n",
       "      <th>2</th>\n",
       "      <td>9.0</td>\n",
       "      <td>3865</td>\n",
       "      <td>1586.0</td>\n",
       "      <td>0.580</td>\n",
       "      <td>561</td>\n",
       "    </tr>\n",
       "    <tr>\n",
       "      <th>3</th>\n",
       "      <td>7.5</td>\n",
       "      <td>4870</td>\n",
       "      <td>2351.0</td>\n",
       "      <td>0.529</td>\n",
       "      <td>414</td>\n",
       "    </tr>\n",
       "    <tr>\n",
       "      <th>4</th>\n",
       "      <td>8.0</td>\n",
       "      <td>4399</td>\n",
       "      <td>431.0</td>\n",
       "      <td>0.544</td>\n",
       "      <td>410</td>\n",
       "    </tr>\n",
       "  </tbody>\n",
       "</table>\n",
       "</div>"
      ],
      "text/plain": [
       "   Petrol_tax  Average_income  Paved_Highways  Population_Driver_licence(%)  \\\n",
       "0         9.0            3571          1976.0                         0.525   \n",
       "1         9.0            4092          1250.0                         0.572   \n",
       "2         9.0            3865          1586.0                         0.580   \n",
       "3         7.5            4870          2351.0                         0.529   \n",
       "4         8.0            4399           431.0                         0.544   \n",
       "\n",
       "   Petrol_Consumption  \n",
       "0                 541  \n",
       "1                 524  \n",
       "2                 561  \n",
       "3                 414  \n",
       "4                 410  "
      ]
     },
     "execution_count": 3,
     "metadata": {},
     "output_type": "execute_result"
    }
   ],
   "source": [
    "df.head()"
   ]
  },
  {
   "cell_type": "code",
   "execution_count": 4,
   "metadata": {},
   "outputs": [
    {
     "data": {
      "text/plain": [
       "(48, 5)"
      ]
     },
     "execution_count": 4,
     "metadata": {},
     "output_type": "execute_result"
    }
   ],
   "source": [
    "df.shape"
   ]
  },
  {
   "cell_type": "code",
   "execution_count": 5,
   "metadata": {},
   "outputs": [
    {
     "data": {
      "text/html": [
       "<div>\n",
       "<style scoped>\n",
       "    .dataframe tbody tr th:only-of-type {\n",
       "        vertical-align: middle;\n",
       "    }\n",
       "\n",
       "    .dataframe tbody tr th {\n",
       "        vertical-align: top;\n",
       "    }\n",
       "\n",
       "    .dataframe thead th {\n",
       "        text-align: right;\n",
       "    }\n",
       "</style>\n",
       "<table border=\"1\" class=\"dataframe\">\n",
       "  <thead>\n",
       "    <tr style=\"text-align: right;\">\n",
       "      <th></th>\n",
       "      <th>Petrol_tax</th>\n",
       "      <th>Average_income</th>\n",
       "      <th>Paved_Highways</th>\n",
       "      <th>Population_Driver_licence(%)</th>\n",
       "      <th>Petrol_Consumption</th>\n",
       "    </tr>\n",
       "  </thead>\n",
       "  <tbody>\n",
       "    <tr>\n",
       "      <th>count</th>\n",
       "      <td>48.000000</td>\n",
       "      <td>48.000000</td>\n",
       "      <td>44.000000</td>\n",
       "      <td>44.000000</td>\n",
       "      <td>48.000000</td>\n",
       "    </tr>\n",
       "    <tr>\n",
       "      <th>mean</th>\n",
       "      <td>7.668333</td>\n",
       "      <td>4241.833333</td>\n",
       "      <td>5666.386364</td>\n",
       "      <td>0.568318</td>\n",
       "      <td>576.770833</td>\n",
       "    </tr>\n",
       "    <tr>\n",
       "      <th>std</th>\n",
       "      <td>0.950770</td>\n",
       "      <td>573.623768</td>\n",
       "      <td>3620.595449</td>\n",
       "      <td>0.055725</td>\n",
       "      <td>111.885816</td>\n",
       "    </tr>\n",
       "    <tr>\n",
       "      <th>min</th>\n",
       "      <td>5.000000</td>\n",
       "      <td>3063.000000</td>\n",
       "      <td>431.000000</td>\n",
       "      <td>0.451000</td>\n",
       "      <td>344.000000</td>\n",
       "    </tr>\n",
       "    <tr>\n",
       "      <th>25%</th>\n",
       "      <td>7.000000</td>\n",
       "      <td>3739.000000</td>\n",
       "      <td>2617.000000</td>\n",
       "      <td>0.529000</td>\n",
       "      <td>509.500000</td>\n",
       "    </tr>\n",
       "    <tr>\n",
       "      <th>50%</th>\n",
       "      <td>7.500000</td>\n",
       "      <td>4298.000000</td>\n",
       "      <td>5072.500000</td>\n",
       "      <td>0.563000</td>\n",
       "      <td>568.500000</td>\n",
       "    </tr>\n",
       "    <tr>\n",
       "      <th>75%</th>\n",
       "      <td>8.125000</td>\n",
       "      <td>4578.750000</td>\n",
       "      <td>7834.000000</td>\n",
       "      <td>0.595250</td>\n",
       "      <td>632.750000</td>\n",
       "    </tr>\n",
       "    <tr>\n",
       "      <th>max</th>\n",
       "      <td>10.000000</td>\n",
       "      <td>5342.000000</td>\n",
       "      <td>17782.000000</td>\n",
       "      <td>0.724000</td>\n",
       "      <td>968.000000</td>\n",
       "    </tr>\n",
       "  </tbody>\n",
       "</table>\n",
       "</div>"
      ],
      "text/plain": [
       "       Petrol_tax  Average_income  Paved_Highways  \\\n",
       "count   48.000000       48.000000       44.000000   \n",
       "mean     7.668333     4241.833333     5666.386364   \n",
       "std      0.950770      573.623768     3620.595449   \n",
       "min      5.000000     3063.000000      431.000000   \n",
       "25%      7.000000     3739.000000     2617.000000   \n",
       "50%      7.500000     4298.000000     5072.500000   \n",
       "75%      8.125000     4578.750000     7834.000000   \n",
       "max     10.000000     5342.000000    17782.000000   \n",
       "\n",
       "       Population_Driver_licence(%)  Petrol_Consumption  \n",
       "count                     44.000000           48.000000  \n",
       "mean                       0.568318          576.770833  \n",
       "std                        0.055725          111.885816  \n",
       "min                        0.451000          344.000000  \n",
       "25%                        0.529000          509.500000  \n",
       "50%                        0.563000          568.500000  \n",
       "75%                        0.595250          632.750000  \n",
       "max                        0.724000          968.000000  "
      ]
     },
     "execution_count": 5,
     "metadata": {},
     "output_type": "execute_result"
    }
   ],
   "source": [
    "df.describe()"
   ]
  },
  {
   "cell_type": "code",
   "execution_count": 6,
   "metadata": {},
   "outputs": [
    {
     "data": {
      "text/plain": [
       "Petrol_tax                      0\n",
       "Average_income                  0\n",
       "Paved_Highways                  4\n",
       "Population_Driver_licence(%)    4\n",
       "Petrol_Consumption              0\n",
       "dtype: int64"
      ]
     },
     "execution_count": 6,
     "metadata": {},
     "output_type": "execute_result"
    }
   ],
   "source": [
    "df.isnull().sum()"
   ]
  },
  {
   "cell_type": "code",
   "execution_count": 7,
   "metadata": {},
   "outputs": [],
   "source": [
    "x=df[['Petrol_tax','Average_income','Paved_Highways','Population_Driver_licence(%)']].values\n",
    "y=df['Petrol_Consumption'].values\n"
   ]
  },
  {
   "cell_type": "code",
   "execution_count": 8,
   "metadata": {
    "scrolled": true
   },
   "outputs": [
    {
     "name": "stdout",
     "output_type": "stream",
     "text": [
      "[[1.9760e+03 5.2500e-01]\n",
      " [1.2500e+03 5.7200e-01]\n",
      " [1.5860e+03 5.8000e-01]\n",
      " [2.3510e+03 5.2900e-01]\n",
      " [4.3100e+02 5.4400e-01]\n",
      " [1.3330e+03 5.7100e-01]\n",
      " [1.1868e+04 4.5100e-01]\n",
      " [2.1380e+03 5.5300e-01]\n",
      " [8.5770e+03 5.2900e-01]\n",
      " [8.5070e+03 5.5200e-01]\n",
      " [5.9390e+03 5.3000e-01]\n",
      " [1.4186e+04 5.2500e-01]\n",
      " [6.9300e+03 5.7400e-01]\n",
      " [6.5800e+03 5.4500e-01]\n",
      " [8.1590e+03 6.0800e-01]\n",
      " [1.0340e+04 5.8600e-01]\n",
      " [8.5080e+03 5.7200e-01]\n",
      " [       nan 5.4000e-01]\n",
      " [       nan 7.2400e-01]\n",
      " [6.0100e+03 6.7700e-01]\n",
      " [7.8340e+03 6.6300e-01]\n",
      " [6.0200e+02 6.0200e-01]\n",
      " [2.4490e+03 5.1100e-01]\n",
      " [4.6860e+03 5.1700e-01]\n",
      " [2.6190e+03 5.5100e-01]\n",
      " [4.7460e+03 5.4400e-01]\n",
      " [5.3990e+03        nan]\n",
      " [9.0610e+03        nan]\n",
      " [5.9750e+03 5.6300e-01]\n",
      " [4.6500e+03 4.9300e-01]\n",
      " [6.9050e+03 5.1800e-01]\n",
      " [6.5940e+03 5.1300e-01]\n",
      " [6.5240e+03 5.7800e-01]\n",
      " [4.1210e+03 5.4700e-01]\n",
      " [3.4950e+03 4.8700e-01]\n",
      " [7.8340e+03 6.2900e-01]\n",
      " [1.7782e+04 5.6600e-01]\n",
      " [6.3850e+03 5.8600e-01]\n",
      " [       nan 6.6300e-01]\n",
      " [       nan 6.7200e-01]\n",
      " [4.6390e+03 6.2600e-01]\n",
      " [3.9850e+03 5.6300e-01]\n",
      " [3.6350e+03 6.0300e-01]\n",
      " [2.6110e+03 5.0800e-01]\n",
      " [2.3020e+03        nan]\n",
      " [3.9420e+03        nan]\n",
      " [4.0830e+03 6.2300e-01]\n",
      " [9.7940e+03 5.9300e-01]]\n"
     ]
    }
   ],
   "source": [
    "from sklearn.impute import SimpleImputer\n",
    "print(x[:,2:4])"
   ]
  },
  {
   "cell_type": "code",
   "execution_count": 9,
   "metadata": {},
   "outputs": [
    {
     "name": "stdout",
     "output_type": "stream",
     "text": [
      "[[1.97600000e+03 5.25000000e-01]\n",
      " [1.25000000e+03 5.72000000e-01]\n",
      " [1.58600000e+03 5.80000000e-01]\n",
      " [2.35100000e+03 5.29000000e-01]\n",
      " [4.31000000e+02 5.44000000e-01]\n",
      " [1.33300000e+03 5.71000000e-01]\n",
      " [1.18680000e+04 4.51000000e-01]\n",
      " [2.13800000e+03 5.53000000e-01]\n",
      " [8.57700000e+03 5.29000000e-01]\n",
      " [8.50700000e+03 5.52000000e-01]\n",
      " [5.93900000e+03 5.30000000e-01]\n",
      " [1.41860000e+04 5.25000000e-01]\n",
      " [6.93000000e+03 5.74000000e-01]\n",
      " [6.58000000e+03 5.45000000e-01]\n",
      " [8.15900000e+03 6.08000000e-01]\n",
      " [1.03400000e+04 5.86000000e-01]\n",
      " [8.50800000e+03 5.72000000e-01]\n",
      " [5.66638636e+03 5.40000000e-01]\n",
      " [5.66638636e+03 7.24000000e-01]\n",
      " [6.01000000e+03 6.77000000e-01]\n",
      " [7.83400000e+03 6.63000000e-01]\n",
      " [6.02000000e+02 6.02000000e-01]\n",
      " [2.44900000e+03 5.11000000e-01]\n",
      " [4.68600000e+03 5.17000000e-01]\n",
      " [2.61900000e+03 5.51000000e-01]\n",
      " [4.74600000e+03 5.44000000e-01]\n",
      " [5.39900000e+03 5.68318182e-01]\n",
      " [9.06100000e+03 5.68318182e-01]\n",
      " [5.97500000e+03 5.63000000e-01]\n",
      " [4.65000000e+03 4.93000000e-01]\n",
      " [6.90500000e+03 5.18000000e-01]\n",
      " [6.59400000e+03 5.13000000e-01]\n",
      " [6.52400000e+03 5.78000000e-01]\n",
      " [4.12100000e+03 5.47000000e-01]\n",
      " [3.49500000e+03 4.87000000e-01]\n",
      " [7.83400000e+03 6.29000000e-01]\n",
      " [1.77820000e+04 5.66000000e-01]\n",
      " [6.38500000e+03 5.86000000e-01]\n",
      " [5.66638636e+03 6.63000000e-01]\n",
      " [5.66638636e+03 6.72000000e-01]\n",
      " [4.63900000e+03 6.26000000e-01]\n",
      " [3.98500000e+03 5.63000000e-01]\n",
      " [3.63500000e+03 6.03000000e-01]\n",
      " [2.61100000e+03 5.08000000e-01]\n",
      " [2.30200000e+03 5.68318182e-01]\n",
      " [3.94200000e+03 5.68318182e-01]\n",
      " [4.08300000e+03 6.23000000e-01]\n",
      " [9.79400000e+03 5.93000000e-01]]\n"
     ]
    }
   ],
   "source": [
    "imputer = SimpleImputer(missing_values=np.nan, strategy='mean')\n",
    "imputer.fit(x[:, 2:4])\n",
    "x[:, 2:4] = imputer.transform(x[:, 2:4])\n",
    "print(x[:,2:4])"
   ]
  },
  {
   "cell_type": "code",
   "execution_count": 10,
   "metadata": {},
   "outputs": [
    {
     "data": {
      "text/plain": [
       "array([[9.00000000e+00],\n",
       "       [3.57100000e+03],\n",
       "       [1.97600000e+03],\n",
       "       [5.25000000e-01],\n",
       "       [9.00000000e+00],\n",
       "       [4.09200000e+03],\n",
       "       [1.25000000e+03],\n",
       "       [5.72000000e-01],\n",
       "       [9.00000000e+00],\n",
       "       [3.86500000e+03],\n",
       "       [1.58600000e+03],\n",
       "       [5.80000000e-01],\n",
       "       [7.50000000e+00],\n",
       "       [4.87000000e+03],\n",
       "       [2.35100000e+03],\n",
       "       [5.29000000e-01],\n",
       "       [8.00000000e+00],\n",
       "       [4.39900000e+03],\n",
       "       [4.31000000e+02],\n",
       "       [5.44000000e-01],\n",
       "       [1.00000000e+01],\n",
       "       [5.34200000e+03],\n",
       "       [1.33300000e+03],\n",
       "       [5.71000000e-01],\n",
       "       [8.00000000e+00],\n",
       "       [5.31900000e+03],\n",
       "       [1.18680000e+04],\n",
       "       [4.51000000e-01],\n",
       "       [8.00000000e+00],\n",
       "       [5.12600000e+03],\n",
       "       [2.13800000e+03],\n",
       "       [5.53000000e-01],\n",
       "       [8.00000000e+00],\n",
       "       [4.44700000e+03],\n",
       "       [8.57700000e+03],\n",
       "       [5.29000000e-01],\n",
       "       [7.00000000e+00],\n",
       "       [4.51200000e+03],\n",
       "       [8.50700000e+03],\n",
       "       [5.52000000e-01],\n",
       "       [8.00000000e+00],\n",
       "       [4.39100000e+03],\n",
       "       [5.93900000e+03],\n",
       "       [5.30000000e-01],\n",
       "       [7.50000000e+00],\n",
       "       [5.12600000e+03],\n",
       "       [1.41860000e+04],\n",
       "       [5.25000000e-01],\n",
       "       [7.00000000e+00],\n",
       "       [4.81700000e+03],\n",
       "       [6.93000000e+03],\n",
       "       [5.74000000e-01],\n",
       "       [7.00000000e+00],\n",
       "       [4.20700000e+03],\n",
       "       [6.58000000e+03],\n",
       "       [5.45000000e-01],\n",
       "       [7.00000000e+00],\n",
       "       [4.33200000e+03],\n",
       "       [8.15900000e+03],\n",
       "       [6.08000000e-01],\n",
       "       [7.00000000e+00],\n",
       "       [4.31800000e+03],\n",
       "       [1.03400000e+04],\n",
       "       [5.86000000e-01],\n",
       "       [7.00000000e+00],\n",
       "       [4.20600000e+03],\n",
       "       [8.50800000e+03],\n",
       "       [5.72000000e-01],\n",
       "       [7.00000000e+00],\n",
       "       [3.71800000e+03],\n",
       "       [5.66638636e+03],\n",
       "       [5.40000000e-01],\n",
       "       [7.00000000e+00],\n",
       "       [4.71600000e+03],\n",
       "       [5.66638636e+03],\n",
       "       [7.24000000e-01],\n",
       "       [8.50000000e+00],\n",
       "       [4.34100000e+03],\n",
       "       [6.01000000e+03],\n",
       "       [6.77000000e-01],\n",
       "       [7.00000000e+00],\n",
       "       [4.59300000e+03],\n",
       "       [7.83400000e+03],\n",
       "       [6.63000000e-01],\n",
       "       [8.00000000e+00],\n",
       "       [4.98300000e+03],\n",
       "       [6.02000000e+02],\n",
       "       [6.02000000e-01],\n",
       "       [9.00000000e+00],\n",
       "       [4.89700000e+03],\n",
       "       [2.44900000e+03],\n",
       "       [5.11000000e-01],\n",
       "       [9.00000000e+00],\n",
       "       [4.25800000e+03],\n",
       "       [4.68600000e+03],\n",
       "       [5.17000000e-01],\n",
       "       [8.50000000e+00],\n",
       "       [4.57400000e+03],\n",
       "       [2.61900000e+03],\n",
       "       [5.51000000e-01],\n",
       "       [9.00000000e+00],\n",
       "       [3.72100000e+03],\n",
       "       [4.74600000e+03],\n",
       "       [5.44000000e-01],\n",
       "       [8.00000000e+00],\n",
       "       [3.44800000e+03],\n",
       "       [5.39900000e+03],\n",
       "       [5.68318182e-01],\n",
       "       [7.50000000e+00],\n",
       "       [3.84600000e+03],\n",
       "       [9.06100000e+03],\n",
       "       [5.68318182e-01],\n",
       "       [8.00000000e+00],\n",
       "       [4.18800000e+03],\n",
       "       [5.97500000e+03],\n",
       "       [5.63000000e-01],\n",
       "       [9.00000000e+00],\n",
       "       [3.60100000e+03],\n",
       "       [4.65000000e+03],\n",
       "       [4.93000000e-01],\n",
       "       [7.00000000e+00],\n",
       "       [3.64000000e+03],\n",
       "       [6.90500000e+03],\n",
       "       [5.18000000e-01],\n",
       "       [7.00000000e+00],\n",
       "       [3.33300000e+03],\n",
       "       [6.59400000e+03],\n",
       "       [5.13000000e-01],\n",
       "       [8.00000000e+00],\n",
       "       [3.06300000e+03],\n",
       "       [6.52400000e+03],\n",
       "       [5.78000000e-01],\n",
       "       [7.50000000e+00],\n",
       "       [3.35700000e+03],\n",
       "       [4.12100000e+03],\n",
       "       [5.47000000e-01],\n",
       "       [8.00000000e+00],\n",
       "       [3.52800000e+03],\n",
       "       [3.49500000e+03],\n",
       "       [4.87000000e-01],\n",
       "       [6.58000000e+00],\n",
       "       [3.80200000e+03],\n",
       "       [7.83400000e+03],\n",
       "       [6.29000000e-01],\n",
       "       [5.00000000e+00],\n",
       "       [4.04500000e+03],\n",
       "       [1.77820000e+04],\n",
       "       [5.66000000e-01],\n",
       "       [7.00000000e+00],\n",
       "       [3.89700000e+03],\n",
       "       [6.38500000e+03],\n",
       "       [5.86000000e-01],\n",
       "       [8.50000000e+00],\n",
       "       [3.63500000e+03],\n",
       "       [5.66638636e+03],\n",
       "       [6.63000000e-01],\n",
       "       [7.00000000e+00],\n",
       "       [4.34500000e+03],\n",
       "       [5.66638636e+03],\n",
       "       [6.72000000e-01],\n",
       "       [7.00000000e+00],\n",
       "       [4.44900000e+03],\n",
       "       [4.63900000e+03],\n",
       "       [6.26000000e-01],\n",
       "       [7.00000000e+00],\n",
       "       [3.65600000e+03],\n",
       "       [3.98500000e+03],\n",
       "       [5.63000000e-01],\n",
       "       [7.00000000e+00],\n",
       "       [4.30000000e+03],\n",
       "       [3.63500000e+03],\n",
       "       [6.03000000e-01],\n",
       "       [7.00000000e+00],\n",
       "       [3.74500000e+03],\n",
       "       [2.61100000e+03],\n",
       "       [5.08000000e-01],\n",
       "       [6.00000000e+00],\n",
       "       [5.21500000e+03],\n",
       "       [2.30200000e+03],\n",
       "       [5.68318182e-01],\n",
       "       [9.00000000e+00],\n",
       "       [4.47600000e+03],\n",
       "       [3.94200000e+03],\n",
       "       [5.68318182e-01],\n",
       "       [7.00000000e+00],\n",
       "       [4.29600000e+03],\n",
       "       [4.08300000e+03],\n",
       "       [6.23000000e-01],\n",
       "       [7.00000000e+00],\n",
       "       [5.00200000e+03],\n",
       "       [9.79400000e+03],\n",
       "       [5.93000000e-01]])"
      ]
     },
     "execution_count": 10,
     "metadata": {},
     "output_type": "execute_result"
    }
   ],
   "source": [
    "x.reshape(-1,1)"
   ]
  },
  {
   "cell_type": "code",
   "execution_count": 11,
   "metadata": {},
   "outputs": [],
   "source": [
    "from sklearn.preprocessing import StandardScaler\n",
    "scaler=StandardScaler()\n",
    "scaler.fit(x)\n",
    "x=scaler.transform(x)"
   ]
  },
  {
   "cell_type": "code",
   "execution_count": 12,
   "metadata": {},
   "outputs": [
    {
     "data": {
      "text/html": [
       "<div>\n",
       "<style scoped>\n",
       "    .dataframe tbody tr th:only-of-type {\n",
       "        vertical-align: middle;\n",
       "    }\n",
       "\n",
       "    .dataframe tbody tr th {\n",
       "        vertical-align: top;\n",
       "    }\n",
       "\n",
       "    .dataframe thead th {\n",
       "        text-align: right;\n",
       "    }\n",
       "</style>\n",
       "<table border=\"1\" class=\"dataframe\">\n",
       "  <thead>\n",
       "    <tr style=\"text-align: right;\">\n",
       "      <th></th>\n",
       "      <th>Petrol_tax</th>\n",
       "      <th>Average_income</th>\n",
       "      <th>Paved_Highways</th>\n",
       "      <th>Population_Driver_licence(%)</th>\n",
       "      <th>Petrol_Consumption</th>\n",
       "    </tr>\n",
       "  </thead>\n",
       "  <tbody>\n",
       "    <tr>\n",
       "      <th>Petrol_tax</th>\n",
       "      <td>1.000000</td>\n",
       "      <td>0.012665</td>\n",
       "      <td>-0.537363</td>\n",
       "      <td>-0.238624</td>\n",
       "      <td>-0.451280</td>\n",
       "    </tr>\n",
       "    <tr>\n",
       "      <th>Average_income</th>\n",
       "      <td>0.012665</td>\n",
       "      <td>1.000000</td>\n",
       "      <td>0.031337</td>\n",
       "      <td>0.089887</td>\n",
       "      <td>-0.244862</td>\n",
       "    </tr>\n",
       "    <tr>\n",
       "      <th>Paved_Highways</th>\n",
       "      <td>-0.537363</td>\n",
       "      <td>0.031337</td>\n",
       "      <td>1.000000</td>\n",
       "      <td>0.011460</td>\n",
       "      <td>0.095759</td>\n",
       "    </tr>\n",
       "    <tr>\n",
       "      <th>Population_Driver_licence(%)</th>\n",
       "      <td>-0.238624</td>\n",
       "      <td>0.089887</td>\n",
       "      <td>0.011460</td>\n",
       "      <td>1.000000</td>\n",
       "      <td>0.679831</td>\n",
       "    </tr>\n",
       "    <tr>\n",
       "      <th>Petrol_Consumption</th>\n",
       "      <td>-0.451280</td>\n",
       "      <td>-0.244862</td>\n",
       "      <td>0.095759</td>\n",
       "      <td>0.679831</td>\n",
       "      <td>1.000000</td>\n",
       "    </tr>\n",
       "  </tbody>\n",
       "</table>\n",
       "</div>"
      ],
      "text/plain": [
       "                              Petrol_tax  Average_income  Paved_Highways  \\\n",
       "Petrol_tax                      1.000000        0.012665       -0.537363   \n",
       "Average_income                  0.012665        1.000000        0.031337   \n",
       "Paved_Highways                 -0.537363        0.031337        1.000000   \n",
       "Population_Driver_licence(%)   -0.238624        0.089887        0.011460   \n",
       "Petrol_Consumption             -0.451280       -0.244862        0.095759   \n",
       "\n",
       "                              Population_Driver_licence(%)  Petrol_Consumption  \n",
       "Petrol_tax                                       -0.238624           -0.451280  \n",
       "Average_income                                    0.089887           -0.244862  \n",
       "Paved_Highways                                    0.011460            0.095759  \n",
       "Population_Driver_licence(%)                      1.000000            0.679831  \n",
       "Petrol_Consumption                                0.679831            1.000000  "
      ]
     },
     "execution_count": 12,
     "metadata": {},
     "output_type": "execute_result"
    }
   ],
   "source": [
    "corr_matrix=df.corr()\n",
    "corr_matrix"
   ]
  },
  {
   "cell_type": "code",
   "execution_count": 13,
   "metadata": {},
   "outputs": [
    {
     "data": {
      "text/plain": [
       "<AxesSubplot:>"
      ]
     },
     "execution_count": 13,
     "metadata": {},
     "output_type": "execute_result"
    },
    {
     "data": {
      "image/png": "[encoded data removed]",
      "text/plain": [
       "<Figure size 432x288 with 2 Axes>"
      ]
     },
     "metadata": {
      "needs_background": "light"
     },
     "output_type": "display_data"
    }
   ],
   "source": [
    "import seaborn as sns\n",
    "sns.heatmap(corr_matrix,annot=True)"
   ]
  },
  {
   "cell_type": "code",
   "execution_count": 14,
   "metadata": {},
   "outputs": [],
   "source": [
    "from sklearn.model_selection import train_test_split\n",
    "x_train,x_test,y_train,y_test=train_test_split(x,y,test_size=0.2,random_state=24)"
   ]
  },
  {
   "cell_type": "code",
   "execution_count": 15,
   "metadata": {},
   "outputs": [],
   "source": [
    "regressor1=LinearRegression()\n",
    "regressor1.fit(x_train,y_train)\n",
    "y_pred_train=regressor1.predict(x_train)\n"
   ]
  },
  {
   "cell_type": "code",
   "execution_count": 16,
   "metadata": {},
   "outputs": [],
   "source": [
    "y_pred=regressor1.predict(x_test)\n",
    "np.set_printoptions(precision=2)"
   ]
  },
  {
   "cell_type": "code",
   "execution_count": 17,
   "metadata": {},
   "outputs": [
    {
     "data": {
      "text/plain": [
       "array([485.39, 434.33, 564.04, 454.4 , 677.67, 568.55, 599.75, 698.3 ,\n",
       "       590.4 , 643.34])"
      ]
     },
     "execution_count": 17,
     "metadata": {},
     "output_type": "execute_result"
    }
   ],
   "source": [
    "y_pred"
   ]
  },
  {
   "cell_type": "code",
   "execution_count": 18,
   "metadata": {},
   "outputs": [
    {
     "data": {
      "text/plain": [
       "0.7113219151217659"
      ]
     },
     "execution_count": 18,
     "metadata": {},
     "output_type": "execute_result"
    }
   ],
   "source": [
    "from sklearn.metrics import r2_score\n",
    "score=r2_score(y_test,y_pred)\n",
    "score"
   ]
  },
  {
   "cell_type": "code",
   "execution_count": 19,
   "metadata": {},
   "outputs": [
    {
     "name": "stdout",
     "output_type": "stream",
     "text": [
      "MAE 33.06572066010631\n",
      "MSE 1670.1788146523602\n",
      "RMSE 40.86782126138314\n"
     ]
    }
   ],
   "source": [
    "from sklearn import metrics\n",
    "print(\"MAE\",metrics.mean_absolute_error(y_test,y_pred))\n",
    "print(\"MSE\",metrics.mean_squared_error(y_test,y_pred))\n",
    "print(\"RMSE\",np.sqrt(metrics.mean_squared_error(y_test,y_pred)))"
   ]
  },
  {
   "cell_type": "code",
   "execution_count": 20,
   "metadata": {},
   "outputs": [
    {
     "name": "stdout",
     "output_type": "stream",
     "text": [
      "Actual: [464 457 571 534 640 561 603 648 631 704]\n",
      "Predicted: [485.39 434.33 564.04 454.4  677.67 568.55 599.75 698.3  590.4  643.34]\n"
     ]
    }
   ],
   "source": [
    "print(\"Actual:\",y_test)\n",
    "print(\"Predicted:\",y_pred)"
   ]
  },
  {
   "cell_type": "code",
   "execution_count": null,
   "metadata": {},
   "outputs": [],
   "source": []
  }
 ],
 "metadata": {
  "kernelspec": {
   "display_name": "Python 3",
   "language": "python",
   "name": "python3"
  },
  "language_info": {
   "codemirror_mode": {
    "name": "ipython",
    "version": 3
   },
   "file_extension": ".py",
   "mimetype": "text/x-python",
   "name": "python",
   "nbconvert_exporter": "python",
   "pygments_lexer": "ipython3",
   "version": "3.9.2"
  }
 },
 "nbformat": 4,
 "nbformat_minor": 4
}
